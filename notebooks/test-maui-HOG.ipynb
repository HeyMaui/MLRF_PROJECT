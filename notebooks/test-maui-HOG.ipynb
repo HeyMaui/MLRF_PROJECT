{
 "cells": [
  {
   "cell_type": "code",
   "execution_count": 2,
   "metadata": {},
   "outputs": [],
   "source": [
    "import cv2\n",
    "import numpy as np\n",
    "import pandas as pd\n",
    "from matplotlib import pyplot as plt\n",
    "from sklearn.cluster import MiniBatchKMeans, KMeans\n",
    "import glob\n",
    "from sklearn.model_selection import train_test_split\n",
    "from sklearn.neighbors import KNeighborsClassifier\n",
    "from sklearn.linear_model import LogisticRegression\n",
    "from sklearn.ensemble import RandomForestClassifier\n",
    "from sklearn.svm import SVC\n",
    "from skimage.feature import hog"
   ]
  },
  {
   "cell_type": "markdown",
   "metadata": {},
   "source": [
    "### Load data"
   ]
  },
  {
   "cell_type": "code",
   "execution_count": 3,
   "metadata": {},
   "outputs": [],
   "source": [
    "def unpickle(file):\n",
    "    import pickle\n",
    "\n",
    "    with open(file, \"rb\") as fo:\n",
    "        dict = pickle.load(fo, encoding=\"bytes\")\n",
    "    return dict\n",
    "\n",
    "def to_image(img_flat):\n",
    "    img_R = img_flat[0:1024].reshape((32, 32))\n",
    "    img_G = img_flat[1024:2048].reshape((32, 32))\n",
    "    img_B = img_flat[2048:3072].reshape((32, 32))\n",
    "    img = np.dstack((img_R, img_G, img_B))\n",
    "    return img"
   ]
  },
  {
   "cell_type": "code",
   "execution_count": 4,
   "metadata": {},
   "outputs": [],
   "source": [
    "imgs1= unpickle(\"/home/maui/MLRF/MLRF_PROJECT/data/external/data_batch_1\")\n",
    "imgs2= unpickle(\"/home/maui/MLRF/MLRF_PROJECT/data/external/data_batch_2\")\n",
    "imgs3= unpickle(\"/home/maui/MLRF/MLRF_PROJECT/data/external/data_batch_3\")\n",
    "imgs4= unpickle(\"/home/maui/MLRF/MLRF_PROJECT/data/external/data_batch_4\")\n",
    "imgs5= unpickle(\"/home/maui/MLRF/MLRF_PROJECT/data/external/data_batch_5\")\n",
    "\n",
    "imgstest = unpickle(\"/home/maui/MLRF/MLRF_PROJECT/data/external/test_batch\")\n",
    "\n",
    "data_labels = unpickle('/home/maui/MLRF/MLRF_PROJECT/data/external/batches.meta')\n"
   ]
  },
  {
   "cell_type": "code",
   "execution_count": 5,
   "metadata": {},
   "outputs": [
    {
     "name": "stdout",
     "output_type": "stream",
     "text": [
      "Train data: 50000\n",
      "Train labels: 50000\n",
      "Test data: 10000\n",
      "Test labels: 10000\n"
     ]
    }
   ],
   "source": [
    "x_train = np.concatenate((imgs1[b'data'], imgs2[b'data'], imgs3[b'data'], imgs4[b'data'], imgs5[b'data']))\n",
    "x_train = [to_image(x) for x in x_train]\n",
    "y_train = np.concatenate((imgs1[b'labels'], imgs2[b'labels'], imgs3[b'labels'], imgs4[b'labels'], imgs5[b'labels'])).tolist()\n",
    "\n",
    "x_test = imgstest[b\"data\"]\n",
    "x_test = [to_image(x) for x in x_test]\n",
    "y_test = imgstest[b\"labels\"]\n",
    "\n",
    "print('Train data:', len(x_train))\n",
    "print('Train labels:', len(y_train))\n",
    "print('Test data:', len(x_test))\n",
    "print('Test labels:', len(y_test))"
   ]
  },
  {
   "cell_type": "code",
   "execution_count": 6,
   "metadata": {},
   "outputs": [
    {
     "data": {
      "text/plain": [
       "<matplotlib.image.AxesImage at 0x7f22fcc12800>"
      ]
     },
     "execution_count": 6,
     "metadata": {},
     "output_type": "execute_result"
    },
    {
     "data": {
      "image/png": "[encoded data removed]",
      "text/plain": [
       "<Figure size 432x288 with 1 Axes>"
      ]
     },
     "metadata": {
      "needs_background": "light"
     },
     "output_type": "display_data"
    }
   ],
   "source": [
    "plt.imshow(x_train[0])"
   ]
  },
  {
   "cell_type": "markdown",
   "metadata": {},
   "source": [
    "### Preprocessing"
   ]
  },
  {
   "cell_type": "code",
   "execution_count": 15,
   "metadata": {},
   "outputs": [],
   "source": [
    "def extract(data, label):\n",
    "    descriptors = []\n",
    "    labels = []\n",
    "    fe = cv2.SIFT.create()\n",
    "    for i, img in enumerate(data):\n",
    "        img_gray = cv2.cvtColor(img, cv2.COLOR_RGB2GRAY)\n",
    "        desc, _ = hog(img_gray, visualize=True, block_norm='L2-Hys')\n",
    "        if desc is None:\n",
    "            desc = np.zeros((0, 128), dtype=\"uint8\")\n",
    "        descriptors.append(desc)\n",
    "        labels.append((label[i], len(desc)))\n",
    "    return descriptors, labels"
   ]
  },
  {
   "cell_type": "code",
   "execution_count": 16,
   "metadata": {},
   "outputs": [],
   "source": [
    "x_desc, x_label = extract(x_train, y_train)"
   ]
  },
  {
   "cell_type": "code",
   "execution_count": 17,
   "metadata": {},
   "outputs": [],
   "source": [
    "def normalize(descriptors):\n",
    "    descriptors  = np.vstack(descriptors)\n",
    "    descriptors = descriptors.astype(np.float32)\n",
    "    # Center descriptors\n",
    "    mean = np.mean(descriptors)\n",
    "    descriptors = np.apply_along_axis(lambda x: x - mean, axis=0, arr=descriptors)\n",
    "    # PCA\n",
    "    train_cov = np.dot(descriptors.T, descriptors)\n",
    "    eigvals, eigvecs = np.linalg.eig(train_cov)\n",
    "    perm = eigvals.argsort()\n",
    "    pca_transform = eigvecs[:, perm[64:128]]\n",
    "    descriptors = np.dot(descriptors, pca_transform)\n",
    "\n",
    "    return descriptors, pca_transform, mean"
   ]
  },
  {
   "cell_type": "code",
   "execution_count": 18,
   "metadata": {},
   "outputs": [
    {
     "data": {
      "text/plain": [
       "(50000, 64)"
      ]
     },
     "execution_count": 18,
     "metadata": {},
     "output_type": "execute_result"
    }
   ],
   "source": [
    "x_desc, pca_transform, mean = normalize(x_desc)\n",
    "x_desc.shape"
   ]
  },
  {
   "cell_type": "code",
   "execution_count": 20,
   "metadata": {},
   "outputs": [
    {
     "data": {
      "text/html": [
       "<style>#sk-container-id-1 {color: black;background-color: white;}#sk-container-id-1 pre{padding: 0;}#sk-container-id-1 div.sk-toggleable {background-color: white;}#sk-container-id-1 label.sk-toggleable__label {cursor: pointer;display: block;width: 100%;margin-bottom: 0;padding: 0.3em;box-sizing: border-box;text-align: center;}#sk-container-id-1 label.sk-toggleable__label-arrow:before {content: \"▸\";float: left;margin-right: 0.25em;color: #696969;}#sk-container-id-1 label.sk-toggleable__label-arrow:hover:before {color: black;}#sk-container-id-1 div.sk-estimator:hover label.sk-toggleable__label-arrow:before {color: black;}#sk-container-id-1 div.sk-toggleable__content {max-height: 0;max-width: 0;overflow: hidden;text-align: left;background-color: #f0f8ff;}#sk-container-id-1 div.sk-toggleable__content pre {margin: 0.2em;color: black;border-radius: 0.25em;background-color: #f0f8ff;}#sk-container-id-1 input.sk-toggleable__control:checked~div.sk-toggleable__content {max-height: 200px;max-width: 100%;overflow: auto;}#sk-container-id-1 input.sk-toggleable__control:checked~label.sk-toggleable__label-arrow:before {content: \"▾\";}#sk-container-id-1 div.sk-estimator input.sk-toggleable__control:checked~label.sk-toggleable__label {background-color: #d4ebff;}#sk-container-id-1 div.sk-label input.sk-toggleable__control:checked~label.sk-toggleable__label {background-color: #d4ebff;}#sk-container-id-1 input.sk-hidden--visually {border: 0;clip: rect(1px 1px 1px 1px);clip: rect(1px, 1px, 1px, 1px);height: 1px;margin: -1px;overflow: hidden;padding: 0;position: absolute;width: 1px;}#sk-container-id-1 div.sk-estimator {font-family: monospace;background-color: #f0f8ff;border: 1px dotted black;border-radius: 0.25em;box-sizing: border-box;margin-bottom: 0.5em;}#sk-container-id-1 div.sk-estimator:hover {background-color: #d4ebff;}#sk-container-id-1 div.sk-parallel-item::after {content: \"\";width: 100%;border-bottom: 1px solid gray;flex-grow: 1;}#sk-container-id-1 div.sk-label:hover label.sk-toggleable__label {background-color: #d4ebff;}#sk-container-id-1 div.sk-serial::before {content: \"\";position: absolute;border-left: 1px solid gray;box-sizing: border-box;top: 0;bottom: 0;left: 50%;z-index: 0;}#sk-container-id-1 div.sk-serial {display: flex;flex-direction: column;align-items: center;background-color: white;padding-right: 0.2em;padding-left: 0.2em;position: relative;}#sk-container-id-1 div.sk-item {position: relative;z-index: 1;}#sk-container-id-1 div.sk-parallel {display: flex;align-items: stretch;justify-content: center;background-color: white;position: relative;}#sk-container-id-1 div.sk-item::before, #sk-container-id-1 div.sk-parallel-item::before {content: \"\";position: absolute;border-left: 1px solid gray;box-sizing: border-box;top: 0;bottom: 0;left: 50%;z-index: -1;}#sk-container-id-1 div.sk-parallel-item {display: flex;flex-direction: column;z-index: 1;position: relative;background-color: white;}#sk-container-id-1 div.sk-parallel-item:first-child::after {align-self: flex-end;width: 50%;}#sk-container-id-1 div.sk-parallel-item:last-child::after {align-self: flex-start;width: 50%;}#sk-container-id-1 div.sk-parallel-item:only-child::after {width: 0;}#sk-container-id-1 div.sk-dashed-wrapped {border: 1px dashed gray;margin: 0 0.4em 0.5em 0.4em;box-sizing: border-box;padding-bottom: 0.4em;background-color: white;}#sk-container-id-1 div.sk-label label {font-family: monospace;font-weight: bold;display: inline-block;line-height: 1.2em;}#sk-container-id-1 div.sk-label-container {text-align: center;}#sk-container-id-1 div.sk-container {/* jupyter's `normalize.less` sets `[hidden] { display: none; }` but bootstrap.min.css set `[hidden] { display: none !important; }` so we also need the `!important` here to be able to override the default hidden behavior on the sphinx rendered scikit-learn.org. See: https://github.com/scikit-learn/scikit-learn/issues/21755 */display: inline-block !important;position: relative;}#sk-container-id-1 div.sk-text-repr-fallback {display: none;}</style><div id=\"sk-container-id-1\" class=\"sk-top-container\"><div class=\"sk-text-repr-fallback\"><pre>KMeans(n_clusters=40)</pre><b>In a Jupyter environment, please rerun this cell to show the HTML representation or trust the notebook. <br />On GitHub, the HTML representation is unable to render, please try loading this page with nbviewer.org.</b></div><div class=\"sk-container\" hidden><div class=\"sk-item\"><div class=\"sk-estimator sk-toggleable\"><input class=\"sk-toggleable__control sk-hidden--visually\" id=\"sk-estimator-id-1\" type=\"checkbox\" checked><label for=\"sk-estimator-id-1\" class=\"sk-toggleable__label sk-toggleable__label-arrow\">KMeans</label><div class=\"sk-toggleable__content\"><pre>KMeans(n_clusters=40)</pre></div></div></div></div></div>"
      ],
      "text/plain": [
       "KMeans(n_clusters=40)"
      ]
     },
     "execution_count": 20,
     "metadata": {},
     "output_type": "execute_result"
    }
   ],
   "source": [
    "kmeans = KMeans(n_clusters = 40)\n",
    "kmeans.fit(x_desc)"
   ]
  },
  {
   "cell_type": "code",
   "execution_count": 31,
   "metadata": {},
   "outputs": [],
   "source": [
    "def histogram(descriptors, train_mean, pca_transform, kmeans):\n",
    "    image_descriptors = np.zeros((len(descriptors), kmeans.n_clusters), dtype=np.float32)\n",
    "    \n",
    "    for ii, desc in enumerate(descriptors):\n",
    "        print(\"Indexing %d/%d\" % (ii, len(descriptors)), end=\"\\r\")\n",
    "        if desc.shape[0] == 0:\n",
    "            # let the descriptor be 0 for all values\n",
    "            # note that this is bad and the element should be dropped from the index\n",
    "            print(\"WARNING: zero descriptor for %s\" % (ii))\n",
    "            continue\n",
    "        \n",
    "        # convert to float\n",
    "        desc = desc.astype(np.float32)\n",
    "        \n",
    "        # center and apply PCA transform\n",
    "        desc = np.apply_along_axis(lambda x: x - train_mean, axis=0, arr=desc)\n",
    "        desc = np.dot(desc, pca_transform)\n",
    "        \n",
    "        # get cluster ids\n",
    "        clabels = kmeans.predict(desc.reshape(1, -1))\n",
    "        # compute histogram\n",
    "        descr_hist = np.histogram(clabels, bins=kmeans.n_clusters)[0] / len(clabels)  # FIXME\n",
    "        \n",
    "        # update the index\n",
    "        image_descriptors[ii] = descr_hist\n",
    "    print(\"Indexing complete.\")\n",
    "    return image_descriptors"
   ]
  },
  {
   "cell_type": "code",
   "execution_count": 29,
   "metadata": {},
   "outputs": [],
   "source": [
    "x_desc, x_label = extract(x_train, y_train)"
   ]
  },
  {
   "cell_type": "code",
   "execution_count": null,
   "metadata": {},
   "outputs": [],
   "source": [
    "x_train_desc = histogram(x_desc, mean, pca_transform, kmeans)"
   ]
  },
  {
   "cell_type": "code",
   "execution_count": null,
   "metadata": {},
   "outputs": [
    {
     "name": "stdout",
     "output_type": "stream",
     "text": [
      "WARNING: zero descriptor for 1510\n",
      "WARNING: zero descriptor for 2200\n",
      "WARNING: zero descriptor for 3248\n",
      "WARNING: zero descriptor for 3423\n",
      "WARNING: zero descriptor for 3444\n",
      "WARNING: zero descriptor for 3660\n",
      "WARNING: zero descriptor for 4957\n",
      "WARNING: zero descriptor for 5189\n",
      "WARNING: zero descriptor for 6549\n",
      "WARNING: zero descriptor for 7105\n",
      "WARNING: zero descriptor for 8485\n",
      "WARNING: zero descriptor for 8826\n",
      "WARNING: zero descriptor for 9462\n",
      "WARNING: zero descriptor for 9970\n",
      "Indexing complete.\n"
     ]
    }
   ],
   "source": [
    "x_desc, x_label = extract(x_test, y_test)\n",
    "x_test_desc = histogram(x_desc, mean, pca_transform, kmeans)"
   ]
  },
  {
   "cell_type": "code",
   "execution_count": null,
   "metadata": {},
   "outputs": [
    {
     "name": "stdout",
     "output_type": "stream",
     "text": [
      "Accuracy: 16.52%\n"
     ]
    }
   ],
   "source": [
    "logReg = LogisticRegression(max_iter=2000)\n",
    "logReg.fit(x_train_desc, y_train)\n",
    "acc = logReg.score(x_test_desc, y_test)\n",
    "print(\"Accuracy: {:.2f}%\".format(acc * 100))"
   ]
  },
  {
   "cell_type": "code",
   "execution_count": null,
   "metadata": {},
   "outputs": [
    {
     "name": "stdout",
     "output_type": "stream",
     "text": [
      "Accuracy: 16.30%\n"
     ]
    }
   ],
   "source": [
    "model = SVC(kernel='linear')\n",
    "model.fit(x_train_desc, y_train)\n",
    "acc = model.score(x_test_desc, y_test)\n",
    "print(\"Accuracy: {:.2f}%\".format(acc * 100))"
   ]
  },
  {
   "cell_type": "code",
   "execution_count": null,
   "metadata": {},
   "outputs": [
    {
     "name": "stdout",
     "output_type": "stream",
     "text": [
      "Accuracy: 16.69%\n"
     ]
    }
   ],
   "source": [
    "model = RandomForestClassifier()\n",
    "model.fit(x_train_desc, y_train)\n",
    "acc = model.score(x_test_desc, y_test)\n",
    "print(\"Accuracy: {:.2f}%\".format(acc * 100))"
   ]
  }
 ],
 "metadata": {
  "kernelspec": {
   "display_name": "Python 3",
   "language": "python",
   "name": "python3"
  },
  "language_info": {
   "codemirror_mode": {
    "name": "ipython",
    "version": 3
   },
   "file_extension": ".py",
   "mimetype": "text/x-python",
   "name": "python",
   "nbconvert_exporter": "python",
   "pygments_lexer": "ipython3",
   "version": "3.10.12"
  }
 },
 "nbformat": 4,
 "nbformat_minor": 2
}
